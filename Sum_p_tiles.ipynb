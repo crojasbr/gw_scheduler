{
 "cells": [
  {
   "cell_type": "code",
   "execution_count": 1,
   "metadata": {
    "collapsed": true
   },
   "outputs": [],
   "source": [
    "import numpy as np\n",
    "from astropy.io import ascii\n",
    "from astropy.coordinates import SkyCoord\n",
    "from astropy import units as u\n",
    "from matplotlib import pyplot as plt\n",
    "import matplotlib as mpl\n",
    "from astropy.table import Table, Column, MaskedColumn\n",
    "from matplotlib.offsetbox import AnchoredText\n",
    "from scipy import interpolate\n",
    "from scipy import stats\n",
    "from scipy.spatial import KDTree\n",
    "import time\n",
    "\n",
    "\n",
    "converters = {'dec': [ascii.convert_numpy(np.float64)]}\n",
    "\n",
    "\n",
    "%matplotlib inline"
   ]
  },
  {
   "cell_type": "code",
   "execution_count": 2,
   "metadata": {
    "collapsed": true
   },
   "outputs": [],
   "source": [
    "tile_name=np.loadtxt('Thacher_Thacher_20190722_GoodSchedule.csv',delimiter=',',unpack=True,usecols=0,skiprows=1,\n",
    "                     dtype=str)"
   ]
  },
  {
   "cell_type": "code",
   "execution_count": 3,
   "metadata": {},
   "outputs": [
    {
     "data": {
      "text/plain": [
       "132"
      ]
     },
     "execution_count": 3,
     "metadata": {},
     "output_type": "execute_result"
    }
   ],
   "source": [
    "len(tile_name)\n"
   ]
  },
  {
   "cell_type": "code",
   "execution_count": 4,
   "metadata": {},
   "outputs": [
    {
     "name": "stdout",
     "output_type": "stream",
     "text": [
      "T023AAE00080\n",
      "T023AAE00079\n",
      "T023AAE00073\n",
      "T023AAE00069\n",
      "T023AAE00067\n",
      "T023AAE00065\n",
      "T023AAE00064\n",
      "T023AAE00063\n",
      "T023AAE00057\n",
      "T023AAE00053\n",
      "T023AAE00050\n",
      "T023AAE00048\n",
      "T023AAE00047\n",
      "T023AAE00043\n",
      "T023AAE00040\n",
      "T023AAE00039\n",
      "T023AAE00035\n",
      "T023AAE00032\n",
      "T023AAE00030\n",
      "T023AAE00029\n",
      "T023AAE00025\n",
      "T023AAE00023\n",
      "T023AAE00020\n",
      "T023AAE00017\n",
      "T023AAE00014\n",
      "T023AAE00011\n",
      "T023AAE00010\n",
      "T023AAE00007\n",
      "T023AAE00005\n",
      "T023AAE00002\n",
      "T023AAE00001\n",
      "T023AAE00004\n",
      "T023AAE00006\n",
      "T023AAE00008\n",
      "T023AAE00009\n",
      "T023AAE00012\n",
      "T023AAE00013\n",
      "T023AAE00016\n",
      "T023AAE00018\n",
      "T023AAE00024\n",
      "T023AAE00026\n",
      "T023AAE00028\n",
      "T023AAE00031\n",
      "T023AAE00033\n",
      "T023AAE00036\n",
      "T023AAE00037\n",
      "T023AAE00041\n",
      "T023AAE00044\n",
      "T023AAE00045\n",
      "T023AAE00049\n",
      "T023AAE00051\n",
      "T023AAE00052\n",
      "T023AAE00056\n",
      "T023AAE00060\n",
      "T023AAE00061\n",
      "T023AAE00066\n",
      "T023AAE00071\n",
      "T023AAE00075\n",
      "T023AAE00076\n",
      "T023AAE00077\n",
      "T023AAE00081\n",
      "T023AAE00082\n",
      "T023AAE00083\n",
      "T023AAE00084\n",
      "T023AAE00085\n",
      "T023AAE00086\n"
     ]
    }
   ],
   "source": [
    "new=[]\n",
    "for i in tile_name:\n",
    "    if i != \"\":\n",
    "        print i\n",
    "        new.append(i)"
   ]
  },
  {
   "cell_type": "code",
   "execution_count": 5,
   "metadata": {},
   "outputs": [
    {
     "data": {
      "text/plain": [
       "66"
      ]
     },
     "execution_count": 5,
     "metadata": {},
     "output_type": "execute_result"
    }
   ],
   "source": [
    "len(new)"
   ]
  },
  {
   "cell_type": "code",
   "execution_count": 6,
   "metadata": {
    "collapsed": true
   },
   "outputs": [],
   "source": [
    "thacher=ascii.read('S190720a_Thacher_low_MWE_above_30.csv',data_start=0, delimiter=',')"
   ]
  },
  {
   "cell_type": "code",
   "execution_count": 7,
   "metadata": {},
   "outputs": [
    {
     "data": {
      "text/html": [
       "&lt;Table length=2075&gt;\n",
       "<table id=\"table4713106192\" class=\"table-striped table-bordered table-condensed\">\n",
       "<thead><tr><th>FieldName</th><th>FieldRA</th><th>FieldDec</th><th>Telscope</th><th>Filter</th><th>ExpTime</th><th>Priority</th><th>Status</th><th>A_R</th></tr></thead>\n",
       "<thead><tr><th>str12</th><th>str11</th><th>str12</th><th>str7</th><th>str1</th><th>int64</th><th>float64</th><th>str5</th><th>float64</th></tr></thead>\n",
       "<tr><td>T023AAE00001</td><td>19:50:16.44</td><td>+36:10:22.87</td><td>THACHER</td><td>R</td><td>300</td><td>0.01354472</td><td>FALSE</td><td>0.47914696</td></tr>\n",
       "<tr><td>T023AAE00002</td><td>19:48:33.46</td><td>+36:10:22.87</td><td>THACHER</td><td>R</td><td>300</td><td>0.01285101</td><td>FALSE</td><td>0.364106</td></tr>\n",
       "<tr><td>T023AAE00004</td><td>19:51:59.42</td><td>+36:10:22.87</td><td>THACHER</td><td>R</td><td>300</td><td>0.011862803</td><td>FALSE</td><td>0.4535072</td></tr>\n",
       "<tr><td>T023AAE00005</td><td>19:49:45.03</td><td>+35:49:36.72</td><td>THACHER</td><td>R</td><td>300</td><td>0.011333043</td><td>FALSE</td><td>0.48967677</td></tr>\n",
       "<tr><td>T023AAE00006</td><td>19:48:02.54</td><td>+35:49:36.72</td><td>THACHER</td><td>R</td><td>300</td><td>0.010881685</td><td>FALSE</td><td>0.43120086</td></tr>\n",
       "<tr><td>T023AAE00007</td><td>19:49:54.20</td><td>+36:51:55.17</td><td>THACHER</td><td>R</td><td>300</td><td>0.010692422</td><td>FALSE</td><td>0.32763225</td></tr>\n",
       "<tr><td>T023AAE00008</td><td>19:49:22.64</td><td>+36:31:09.02</td><td>THACHER</td><td>R</td><td>300</td><td>0.010362495</td><td>FALSE</td><td>0.3327062</td></tr>\n",
       "<tr><td>T023AAE00009</td><td>19:51:05.99</td><td>+36:31:09.02</td><td>THACHER</td><td>R</td><td>300</td><td>0.010144627</td><td>FALSE</td><td>0.35119516</td></tr>\n",
       "<tr><td>T023AAE00010</td><td>19:51:38.05</td><td>+36:51:55.17</td><td>THACHER</td><td>R</td><td>300</td><td>0.010078912</td><td>FALSE</td><td>0.3532175</td></tr>\n",
       "<tr><td>T023AAE00011</td><td>19:47:31.91</td><td>+35:28:50.57</td><td>THACHER</td><td>R</td><td>300</td><td>0.009890946</td><td>FALSE</td><td>0.44222182</td></tr>\n",
       "<tr><td>...</td><td>...</td><td>...</td><td>...</td><td>...</td><td>...</td><td>...</td><td>...</td><td>...</td></tr>\n",
       "<tr><td>T023AAE03684</td><td>15:45:14.11</td><td>+42:44:59.75</td><td>THACHER</td><td>R</td><td>300</td><td>4.02e-05</td><td>FALSE</td><td>0.026896223</td></tr>\n",
       "<tr><td>T023AAE03687</td><td>14:59:46.50</td><td>+39:38:04.39</td><td>THACHER</td><td>R</td><td>300</td><td>4.02e-05</td><td>FALSE</td><td>0.011059744</td></tr>\n",
       "<tr><td>T023AAE03688</td><td>13:18:45.69</td><td>+21:17:18.35</td><td>THACHER</td><td>R</td><td>300</td><td>4.02e-05</td><td>FALSE</td><td>0.031025382</td></tr>\n",
       "<tr><td>T023AAE03690</td><td>23:02:25.88</td><td>-28:33:27.50</td><td>THACHER</td><td>R</td><td>300</td><td>4.02e-05</td><td>FALSE</td><td>0.03227486</td></tr>\n",
       "<tr><td>T023AAE03691</td><td>19:35:50.00</td><td>+33:44:59.81</td><td>THACHER</td><td>R</td><td>300</td><td>4.01e-05</td><td>FALSE</td><td>0.2669288</td></tr>\n",
       "<tr><td>T023AAE03692</td><td>22:36:14.76</td><td>-10:12:41.46</td><td>THACHER</td><td>R</td><td>300</td><td>4.01e-05</td><td>FALSE</td><td>0.06616127</td></tr>\n",
       "<tr><td>T023AAE03693</td><td>14:17:22.42</td><td>+30:58:50.60</td><td>THACHER</td><td>R</td><td>300</td><td>4.01e-05</td><td>FALSE</td><td>0.015049302</td></tr>\n",
       "<tr><td>T023AAE03697</td><td>13:15:31.16</td><td>+19:12:41.44</td><td>THACHER</td><td>R</td><td>300</td><td>4.01e-05</td><td>FALSE</td><td>0.031387087</td></tr>\n",
       "<tr><td>T023AAE03698</td><td>23:01:02.86</td><td>-28:12:41.35</td><td>THACHER</td><td>R</td><td>300</td><td>4.01e-05</td><td>FALSE</td><td>0.038657416</td></tr>\n",
       "<tr><td>T023AAE03700</td><td>13:17:39.67</td><td>+17:28:50.68</td><td>THACHER</td><td>R</td><td>300</td><td>4.01e-05</td><td>FALSE</td><td>0.01916631</td></tr>\n",
       "</table>"
      ],
      "text/plain": [
       "<Table length=2075>\n",
       " FieldName     FieldRA     FieldDec   ...   Priority  Status     A_R    \n",
       "   str12        str11       str12     ...   float64    str5    float64  \n",
       "------------ ----------- ------------ ... ----------- ------ -----------\n",
       "T023AAE00001 19:50:16.44 +36:10:22.87 ...  0.01354472  FALSE  0.47914696\n",
       "T023AAE00002 19:48:33.46 +36:10:22.87 ...  0.01285101  FALSE    0.364106\n",
       "T023AAE00004 19:51:59.42 +36:10:22.87 ... 0.011862803  FALSE   0.4535072\n",
       "T023AAE00005 19:49:45.03 +35:49:36.72 ... 0.011333043  FALSE  0.48967677\n",
       "T023AAE00006 19:48:02.54 +35:49:36.72 ... 0.010881685  FALSE  0.43120086\n",
       "T023AAE00007 19:49:54.20 +36:51:55.17 ... 0.010692422  FALSE  0.32763225\n",
       "T023AAE00008 19:49:22.64 +36:31:09.02 ... 0.010362495  FALSE   0.3327062\n",
       "T023AAE00009 19:51:05.99 +36:31:09.02 ... 0.010144627  FALSE  0.35119516\n",
       "T023AAE00010 19:51:38.05 +36:51:55.17 ... 0.010078912  FALSE   0.3532175\n",
       "T023AAE00011 19:47:31.91 +35:28:50.57 ... 0.009890946  FALSE  0.44222182\n",
       "         ...         ...          ... ...         ...    ...         ...\n",
       "T023AAE03684 15:45:14.11 +42:44:59.75 ...    4.02e-05  FALSE 0.026896223\n",
       "T023AAE03687 14:59:46.50 +39:38:04.39 ...    4.02e-05  FALSE 0.011059744\n",
       "T023AAE03688 13:18:45.69 +21:17:18.35 ...    4.02e-05  FALSE 0.031025382\n",
       "T023AAE03690 23:02:25.88 -28:33:27.50 ...    4.02e-05  FALSE  0.03227486\n",
       "T023AAE03691 19:35:50.00 +33:44:59.81 ...    4.01e-05  FALSE   0.2669288\n",
       "T023AAE03692 22:36:14.76 -10:12:41.46 ...    4.01e-05  FALSE  0.06616127\n",
       "T023AAE03693 14:17:22.42 +30:58:50.60 ...    4.01e-05  FALSE 0.015049302\n",
       "T023AAE03697 13:15:31.16 +19:12:41.44 ...    4.01e-05  FALSE 0.031387087\n",
       "T023AAE03698 23:01:02.86 -28:12:41.35 ...    4.01e-05  FALSE 0.038657416\n",
       "T023AAE03700 13:17:39.67 +17:28:50.68 ...    4.01e-05  FALSE  0.01916631"
      ]
     },
     "execution_count": 7,
     "metadata": {},
     "output_type": "execute_result"
    }
   ],
   "source": [
    "thacher"
   ]
  },
  {
   "cell_type": "code",
   "execution_count": 8,
   "metadata": {},
   "outputs": [
    {
     "name": "stdout",
     "output_type": "stream",
     "text": [
      "T023AAE00080\n",
      "T023AAE00079\n",
      "T023AAE00073\n",
      "T023AAE00069\n",
      "T023AAE00067\n",
      "T023AAE00065\n",
      "T023AAE00064\n",
      "T023AAE00063\n",
      "T023AAE00057\n",
      "T023AAE00053\n",
      "T023AAE00050\n",
      "T023AAE00048\n",
      "T023AAE00047\n",
      "T023AAE00043\n",
      "T023AAE00040\n",
      "T023AAE00039\n",
      "T023AAE00035\n",
      "T023AAE00032\n",
      "T023AAE00030\n",
      "T023AAE00029\n",
      "T023AAE00025\n",
      "T023AAE00023\n",
      "T023AAE00020\n",
      "T023AAE00017\n",
      "T023AAE00014\n",
      "T023AAE00011\n",
      "T023AAE00010\n",
      "T023AAE00007\n",
      "T023AAE00005\n",
      "T023AAE00002\n",
      "T023AAE00001\n",
      "T023AAE00004\n",
      "T023AAE00006\n",
      "T023AAE00008\n",
      "T023AAE00009\n",
      "T023AAE00012\n",
      "T023AAE00013\n",
      "T023AAE00016\n",
      "T023AAE00018\n",
      "T023AAE00024\n",
      "T023AAE00026\n",
      "T023AAE00028\n",
      "T023AAE00031\n",
      "T023AAE00033\n",
      "T023AAE00036\n",
      "T023AAE00037\n",
      "T023AAE00041\n",
      "T023AAE00044\n",
      "T023AAE00045\n",
      "T023AAE00049\n",
      "T023AAE00051\n",
      "T023AAE00052\n",
      "T023AAE00056\n",
      "T023AAE00060\n",
      "T023AAE00061\n",
      "T023AAE00066\n",
      "T023AAE00071\n",
      "T023AAE00075\n",
      "T023AAE00076\n",
      "T023AAE00077\n",
      "T023AAE00081\n",
      "T023AAE00082\n",
      "T023AAE00083\n",
      "T023AAE00084\n",
      "T023AAE00085\n",
      "T023AAE00086\n"
     ]
    }
   ],
   "source": [
    "coincidence=[]\n",
    "ps=[]\n",
    "for name in new:\n",
    "    for j,val in enumerate(thacher['FieldName']):\n",
    "        if name==val:\n",
    "            print name\n",
    "#             print thacher['Priority'][j]\n",
    "            coincidence.append(name)\n",
    "            ps.append(thacher['Priority'][j])"
   ]
  },
  {
   "cell_type": "code",
   "execution_count": 9,
   "metadata": {},
   "outputs": [
    {
     "data": {
      "text/plain": [
       "66"
      ]
     },
     "execution_count": 9,
     "metadata": {},
     "output_type": "execute_result"
    }
   ],
   "source": [
    "len(coincidence)"
   ]
  },
  {
   "cell_type": "code",
   "execution_count": 10,
   "metadata": {},
   "outputs": [
    {
     "data": {
      "text/plain": [
       "0.38830186699999997"
      ]
     },
     "execution_count": 10,
     "metadata": {},
     "output_type": "execute_result"
    }
   ],
   "source": [
    "np.sum(ps)"
   ]
  },
  {
   "cell_type": "code",
   "execution_count": null,
   "metadata": {
    "collapsed": true
   },
   "outputs": [],
   "source": []
  },
  {
   "cell_type": "code",
   "execution_count": 11,
   "metadata": {},
   "outputs": [
    {
     "data": {
      "text/plain": [
       "[0.002334271,\n",
       " 0.002415723,\n",
       " 0.002657271,\n",
       " 0.002886398,\n",
       " 0.003260877,\n",
       " 0.003291816,\n",
       " 0.00331681,\n",
       " 0.003671581,\n",
       " 0.0038312,\n",
       " 0.004070482,\n",
       " 0.004456255,\n",
       " 0.00462081,\n",
       " 0.004655756,\n",
       " 0.005220758,\n",
       " 0.005512174,\n",
       " 0.005516542,\n",
       " 0.00583222,\n",
       " 0.005967106,\n",
       " 0.006140796,\n",
       " 0.006422492,\n",
       " 0.007187269,\n",
       " 0.007853709,\n",
       " 0.008617672,\n",
       " 0.008739259,\n",
       " 0.009257119,\n",
       " 0.009890946,\n",
       " 0.010078912,\n",
       " 0.010692422,\n",
       " 0.011333043,\n",
       " 0.01285101,\n",
       " 0.01354472,\n",
       " 0.011862803,\n",
       " 0.010881685,\n",
       " 0.010362495,\n",
       " 0.010144627,\n",
       " 0.009514327,\n",
       " 0.009511243,\n",
       " 0.008970616,\n",
       " 0.00871005,\n",
       " 0.007744003,\n",
       " 0.007140002,\n",
       " 0.006639507,\n",
       " 0.005983666,\n",
       " 0.005878508,\n",
       " 0.005773492,\n",
       " 0.00577261,\n",
       " 0.005385707,\n",
       " 0.005087239,\n",
       " 0.005045281,\n",
       " 0.004592176,\n",
       " 0.004322941,\n",
       " 0.004254522,\n",
       " 0.003892318,\n",
       " 0.003785677,\n",
       " 0.00376348,\n",
       " 0.003288466,\n",
       " 0.002837763,\n",
       " 0.002548481,\n",
       " 0.00251622,\n",
       " 0.002448277,\n",
       " 0.002306901,\n",
       " 0.002292235,\n",
       " 0.002270749,\n",
       " 0.002258757,\n",
       " 0.002207816,\n",
       " 0.002179808]"
      ]
     },
     "execution_count": 11,
     "metadata": {},
     "output_type": "execute_result"
    }
   ],
   "source": [
    "ps"
   ]
  },
  {
   "cell_type": "code",
   "execution_count": 12,
   "metadata": {},
   "outputs": [
    {
     "data": {
      "text/plain": [
       "0.38830186699999997"
      ]
     },
     "execution_count": 12,
     "metadata": {},
     "output_type": "execute_result"
    }
   ],
   "source": [
    "np.sum(ps)"
   ]
  },
  {
   "cell_type": "code",
   "execution_count": null,
   "metadata": {
    "collapsed": true
   },
   "outputs": [],
   "source": []
  }
 ],
 "metadata": {
  "kernelspec": {
   "display_name": "Python 2",
   "language": "python",
   "name": "python2"
  },
  "language_info": {
   "codemirror_mode": {
    "name": "ipython",
    "version": 2
   },
   "file_extension": ".py",
   "mimetype": "text/x-python",
   "name": "python",
   "nbconvert_exporter": "python",
   "pygments_lexer": "ipython2",
   "version": "2.7.6"
  },
  "toc": {
   "base_numbering": 1,
   "nav_menu": {},
   "number_sections": true,
   "sideBar": true,
   "skip_h1_title": false,
   "title_cell": "Table of Contents",
   "title_sidebar": "Contents",
   "toc_cell": false,
   "toc_position": {},
   "toc_section_display": true,
   "toc_window_display": false
  }
 },
 "nbformat": 4,
 "nbformat_minor": 2
}
